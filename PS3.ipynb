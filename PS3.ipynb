{
 "cells": [
  {
   "cell_type": "code",
   "execution_count": 327,
   "metadata": {},
   "outputs": [],
   "source": [
    "import os\n",
    "import nltk\n",
    "#nltk.download('wordnet')\n",
    "from nltk.corpus import stopwords\n",
    "from sklearn.feature_extraction.text import CountVectorizer\n",
    "from sklearn.feature_extraction.text import TfidfVectorizer\n",
    "import re\n",
    "from nltk.corpus import wordnet\n",
    "from nltk.stem.wordnet import WordNetLemmatizer\n",
    "import matplotlib.pyplot as plt"
   ]
  },
  {
   "cell_type": "markdown",
   "metadata": {},
   "source": [
    "### Part 1: Set-up ###\n",
    "\n",
    "\n",
    "#### 1. To begin, you will first work through processing the data. Start by loading in the training data and test data. Keep each in their own dataframe/list (i.e. a dataframe/list for all training observation text and a separate one for all test observations). How many training and test observations do you have? ####"
   ]
  },
  {
   "cell_type": "code",
   "execution_count": 5,
   "metadata": {
    "scrolled": false
   },
   "outputs": [
    {
     "data": {
      "text/plain": [
       "'C:\\\\Users\\\\iGuest\\\\Documents\\\\IMT 575\\\\PS3'"
      ]
     },
     "execution_count": 5,
     "metadata": {},
     "output_type": "execute_result"
    }
   ],
   "source": [
    "pwd"
   ]
  },
  {
   "cell_type": "code",
   "execution_count": 104,
   "metadata": {},
   "outputs": [],
   "source": [
    "df = pd.DataFrame(columns=['documents'])"
   ]
  },
  {
   "cell_type": "code",
   "execution_count": 105,
   "metadata": {
    "scrolled": true
   },
   "outputs": [
    {
     "name": "stderr",
     "output_type": "stream",
     "text": [
      "C:\\Users\\iGuest\\Anaconda3\\lib\\site-packages\\ipykernel_launcher.py:9: ParserWarning: Falling back to the 'python' engine because the 'c' engine does not support regex separators (separators > 1 char and different from '\\s+' are interpreted as regex); you can avoid this warning by specifying engine='python'.\n",
      "  if __name__ == '__main__':\n"
     ]
    }
   ],
   "source": [
    "path = os.getcwd()+'\\\\train'\n",
    "\n",
    "filelist = []\n",
    "df_train = df\n",
    "files = os.listdir(path)\n",
    "for file in files:\n",
    "    if file.endswith(\".txt\"):\n",
    "        filelist.append(file.split('_')[0].lower())\n",
    "        df_train = df_train.append(pd.read_csv('train/'+file, sep='/n', header=None, names=['documents']))"
   ]
  },
  {
   "cell_type": "code",
   "execution_count": 106,
   "metadata": {
    "scrolled": true
   },
   "outputs": [
    {
     "data": {
      "text/html": [
       "<div>\n",
       "<style scoped>\n",
       "    .dataframe tbody tr th:only-of-type {\n",
       "        vertical-align: middle;\n",
       "    }\n",
       "\n",
       "    .dataframe tbody tr th {\n",
       "        vertical-align: top;\n",
       "    }\n",
       "\n",
       "    .dataframe thead th {\n",
       "        text-align: right;\n",
       "    }\n",
       "</style>\n",
       "<table border=\"1\" class=\"dataframe\">\n",
       "  <thead>\n",
       "    <tr style=\"text-align: right;\">\n",
       "      <th></th>\n",
       "      <th>documents</th>\n",
       "    </tr>\n",
       "  </thead>\n",
       "  <tbody>\n",
       "    <tr>\n",
       "      <th>0</th>\n",
       "      <td>Joe Biden: I refuse to postpone any longer tak...</td>\n",
       "    </tr>\n",
       "    <tr>\n",
       "      <th>0</th>\n",
       "      <td>Joe Biden: Because it got done before. Iâ€™m t...</td>\n",
       "    </tr>\n",
       "    <tr>\n",
       "      <th>0</th>\n",
       "      <td>Joe Biden: No, what I said was, the questionâ€...</td>\n",
       "    </tr>\n",
       "    <tr>\n",
       "      <th>0</th>\n",
       "      <td>Joe Biden: What Latinos should look at is, com...</td>\n",
       "    </tr>\n",
       "    <tr>\n",
       "      <th>0</th>\n",
       "      <td>Joe Biden: What I would do as president is sev...</td>\n",
       "    </tr>\n",
       "  </tbody>\n",
       "</table>\n",
       "</div>"
      ],
      "text/plain": [
       "                                           documents\n",
       "0  Joe Biden: I refuse to postpone any longer tak...\n",
       "0  Joe Biden: Because it got done before. Iâ€™m t...\n",
       "0  Joe Biden: No, what I said was, the questionâ€...\n",
       "0  Joe Biden: What Latinos should look at is, com...\n",
       "0  Joe Biden: What I would do as president is sev..."
      ]
     },
     "execution_count": 106,
     "metadata": {},
     "output_type": "execute_result"
    }
   ],
   "source": [
    "df_train.head()"
   ]
  },
  {
   "cell_type": "code",
   "execution_count": 107,
   "metadata": {
    "scrolled": true
   },
   "outputs": [
    {
     "data": {
      "text/plain": [
       "(528, 1)"
      ]
     },
     "execution_count": 107,
     "metadata": {},
     "output_type": "execute_result"
    }
   ],
   "source": [
    "df_train.shape"
   ]
  },
  {
   "cell_type": "markdown",
   "metadata": {},
   "source": [
    "#### The training data has 528 observations. ####"
   ]
  },
  {
   "cell_type": "code",
   "execution_count": 724,
   "metadata": {},
   "outputs": [
    {
     "name": "stderr",
     "output_type": "stream",
     "text": [
      "C:\\Users\\iGuest\\Anaconda3\\lib\\site-packages\\ipykernel_launcher.py:8: ParserWarning: Falling back to the 'python' engine because the 'c' engine does not support regex separators (separators > 1 char and different from '\\s+' are interpreted as regex); you can avoid this warning by specifying engine='python'.\n",
      "  \n"
     ]
    }
   ],
   "source": [
    "path = os.getcwd()+'\\\\test'\n",
    "\n",
    "test_file_list = []\n",
    "df_test = df\n",
    "for file in os.listdir(path):\n",
    "    if file.endswith(\".txt\"):\n",
    "        test_file_list.append(file)\n",
    "        df_test = df_test.append(pd.read_csv('test/'+file, sep='/n', header=None, names=['documents']))"
   ]
  },
  {
   "cell_type": "code",
   "execution_count": 11,
   "metadata": {
    "scrolled": true
   },
   "outputs": [
    {
     "data": {
      "text/html": [
       "<div>\n",
       "<style scoped>\n",
       "    .dataframe tbody tr th:only-of-type {\n",
       "        vertical-align: middle;\n",
       "    }\n",
       "\n",
       "    .dataframe tbody tr th {\n",
       "        vertical-align: top;\n",
       "    }\n",
       "\n",
       "    .dataframe thead th {\n",
       "        text-align: right;\n",
       "    }\n",
       "</style>\n",
       "<table border=\"1\" class=\"dataframe\">\n",
       "  <thead>\n",
       "    <tr style=\"text-align: right;\">\n",
       "      <th></th>\n",
       "      <th>documents</th>\n",
       "    </tr>\n",
       "  </thead>\n",
       "  <tbody>\n",
       "    <tr>\n",
       "      <th>0</th>\n",
       "      <td>You know, I served under General Dunford, way ...</td>\n",
       "    </tr>\n",
       "    <tr>\n",
       "      <th>0</th>\n",
       "      <td>You know, when President Kennedy announced the...</td>\n",
       "    </tr>\n",
       "    <tr>\n",
       "      <th>0</th>\n",
       "      <td>This is a problem which continues to get worse...</td>\n",
       "    </tr>\n",
       "    <tr>\n",
       "      <th>0</th>\n",
       "      <td>Well, first of all, I have no criticism of tha...</td>\n",
       "    </tr>\n",
       "    <tr>\n",
       "      <th>0</th>\n",
       "      <td>Iâ€™m running for president because our countr...</td>\n",
       "    </tr>\n",
       "  </tbody>\n",
       "</table>\n",
       "</div>"
      ],
      "text/plain": [
       "                                           documents\n",
       "0  You know, I served under General Dunford, way ...\n",
       "0  You know, when President Kennedy announced the...\n",
       "0  This is a problem which continues to get worse...\n",
       "0  Well, first of all, I have no criticism of tha...\n",
       "0  Iâ€™m running for president because our countr..."
      ]
     },
     "execution_count": 11,
     "metadata": {},
     "output_type": "execute_result"
    }
   ],
   "source": [
    "df_test.head()"
   ]
  },
  {
   "cell_type": "code",
   "execution_count": 12,
   "metadata": {},
   "outputs": [
    {
     "data": {
      "text/plain": [
       "(111, 1)"
      ]
     },
     "execution_count": 12,
     "metadata": {},
     "output_type": "execute_result"
    }
   ],
   "source": [
    "df_test.shape"
   ]
  },
  {
   "cell_type": "markdown",
   "metadata": {},
   "source": [
    "#### The test data has 111 observations ####"
   ]
  },
  {
   "cell_type": "markdown",
   "metadata": {},
   "source": [
    "#### 2. Create a vector of training labels. These labels can be found in one of two ways: in the file name of each training data observation and at the beginning of the text for each training file. The test data will not have the labels at the beginning of the text so remove these labels from your training observations. Are there any instances where the name of the file does not align with the name at the start of the text? If so, how many such observations are there? Exclude these from your training data. What does the distribution of labels look like? Comment on what you see. ####"
   ]
  },
  {
   "cell_type": "code",
   "execution_count": 108,
   "metadata": {},
   "outputs": [
    {
     "data": {
      "text/plain": [
       "0    joe biden\n",
       "0    joe biden\n",
       "0    joe biden\n",
       "0    joe biden\n",
       "0    joe biden\n",
       "Name: documents, dtype: object"
      ]
     },
     "execution_count": 108,
     "metadata": {},
     "output_type": "execute_result"
    }
   ],
   "source": [
    "trainlabels = df_train.documents.apply(lambda x: x.split(': ')[0].lower())\n",
    "trainlabelslist = trainlabels.tolist()\n",
    "\n",
    "df_train = df_train.documents.apply(lambda x: x.split(': ')[1])\n",
    "\n",
    "trainlabels[:5]"
   ]
  },
  {
   "cell_type": "code",
   "execution_count": 109,
   "metadata": {},
   "outputs": [
    {
     "name": "stdout",
     "output_type": "stream",
     "text": [
      "0\n"
     ]
    }
   ],
   "source": [
    "counts=0\n",
    "for i in range(len(filelist)):\n",
    "    if filelist[i] not in trainlabelslist[i]:\n",
    "        counts+=1\n",
    "print(counts)"
   ]
  },
  {
   "cell_type": "markdown",
   "metadata": {},
   "source": [
    "#### Thus, there are no instances where the name of the file does not align with the name at the start of the text.\n",
    "\n",
    "#### Regarding the distribution of these labels, the following graph can give a better idea."
   ]
  },
  {
   "cell_type": "code",
   "execution_count": 110,
   "metadata": {
    "scrolled": false
   },
   "outputs": [
    {
     "data": {
      "image/png": "[encoded data removed]",
      "text/plain": [
       "<Figure size 432x288 with 1 Axes>"
      ]
     },
     "metadata": {
      "needs_background": "light"
     },
     "output_type": "display_data"
    }
   ],
   "source": [
    "ax = trainlabels.apply(lambda x: x.split(': ')[0].lower()).value_counts().plot.barh()"
   ]
  },
  {
   "cell_type": "markdown",
   "metadata": {},
   "source": [
    "Thus, we see that our data has class imbalance. Since we are going to perform a classification task, it is important to address this imbalance."
   ]
  },
  {
   "cell_type": "code",
   "execution_count": 805,
   "metadata": {
    "scrolled": true
   },
   "outputs": [
    {
     "name": "stdout",
     "output_type": "stream",
     "text": [
      "(960,)\n",
      "<bound method NDFrame.head of 0    unlike trump tweet three morning work internat...\n",
      "0    must must get recognize country move oligarchi...\n",
      "0    think get think mean president obama say nobod...\n",
      "0    trump pathological liar tell truth afghanistan...\n",
      "0    second maybe make money healthcare job run non...\n",
      "0    talk others talk deductibles co jake tapper qu...\n",
      "0    let blunt tell hear much congress media go wit...\n",
      "0    trump pathological liar tell truth afghanistan...\n",
      "0    right tear system american people want america...\n",
      "0    well respond say supportive jim clyburn legisl...\n",
      "0    people think take insurance industry take phar...\n",
      "0    talk rig economy grotesque level income wealth...\n",
      "0    alright american people want tax break billion...\n",
      "0    amy mention women feel strongly well let tell ...\n",
      "0    let blunt tell hear much congress media go wit...\n",
      "0    david let answer let comment something vice pr...\n",
      "0    well let say one big differences vice presiden...\n",
      "0    think end day appreciate get end hatred trump ...\n",
      "0    think end day appreciate get end hatred trump ...\n",
      "0    look steve nobody congress strongly pro worker...\n",
      "0    get little bite tire democrats afraid big idea...\n",
      "0    joe talk work republicans get things know also...\n",
      "0    would support absolutely pass major legislatio...\n",
      "0    look steve nobody congress strongly pro worker...\n",
      "0    talk rig economy grotesque level income wealth...\n",
      "0    get tire tire hear hypocrisy conservatives say...\n",
      "0    well let invite major rally queen new york ber...\n",
      "0    original point american people understand poli...\n",
      "0    fact matter tens millions people lose health i...\n",
      "0    people flee violence think main thing get amon...\n",
      "                           ...                        \n",
      "0    believe deepen divisions country conduct presi...\n",
      "0    exact conversation since high school junior co...\n",
      "0    would strategy would include tariff leverage t...\n",
      "0    well congressman make clear know actually go t...\n",
      "0    well president clearly strategy first get race...\n",
      "0    still conversation last years course need get ...\n",
      "0    believe need send somebody different kind expe...\n",
      "0    david duke run congress run governor republica...\n",
      "0    well president obama comment recently differen...\n",
      "0    well need federal leadership establish vote ri...\n",
      "0    well respectfully congresswoman think dead wro...\n",
      "0    response completely agree welcome challenge co...\n",
      "0    still conversation last years course need get ...\n",
      "0    know military officer serve ask tell elect off...\n",
      "0    adult life really important okay gun close ass...\n",
      "0    wealth tax everything mention answer let tell ...\n",
      "0    well respectfully congresswoman think dead wro...\n",
      "0    talk build alliances question experience let a...\n",
      "0    well first want remark city atlanta city great...\n",
      "0    must mean transcend framework pit us pit singl...\n",
      "0    yes look around world whatever take keep ameri...\n",
      "0    true embrace far leave agenda gonna say bunch ...\n",
      "0    problem poll problem policy need lessons coura...\n",
      "0    well epidemic gun violence hit community far m...\n",
      "0    well congressman make clear know actually go t...\n",
      "0    also wear uniform country know stake decisions...\n",
      "0    urban mayor serve diverse community racial div...\n",
      "0    owe survivors actually deliver solution glad o...\n",
      "0    david duke run congress run governor republica...\n",
      "0    talk build alliances question experience let a...\n",
      "Length: 960, dtype: object>\n",
      "960\n"
     ]
    }
   ],
   "source": [
    "df = pd.Series()\n",
    "new_label_list = []\n",
    "\n",
    "for c in classes:\n",
    "    df_temp = df_train.iloc[[i for i, e in enumerate(trainlabels) if e == c]]\n",
    "    df = pd.concat([df, df_temp.sample(80, replace=True)], axis=0)\n",
    "    new_label_list.append([c]*80)\n",
    "\n",
    "new_label_list = [item for sublist in new_label_list for item in sublist]\n",
    "    \n",
    "print(df.shape)\n",
    "print(df.head)\n",
    "print(len(new_label_list))"
   ]
  },
  {
   "cell_type": "code",
   "execution_count": 806,
   "metadata": {},
   "outputs": [],
   "source": [
    "df_train = df\n",
    "trainlabels = new_label_list"
   ]
  },
  {
   "cell_type": "markdown",
   "metadata": {},
   "source": [
    " #### 3. Convert the training data to lower case. Remove punctuation from the training data. Also remove stop words from the training data using the NLTK package's English stop word list. In addition to NLTK's stopwords, are there words specific to this dataset that may be worthwhile to treat as stop words? What are these words and why would you exclude them? Remove these additional stop words from the training data as well (note: you can also remove this secondary set of stop words after tokenizing. However, keep in mind that this may cause feature alignment issues with your test dataset when you tokenize it.) ####"
   ]
  },
  {
   "cell_type": "code",
   "execution_count": 807,
   "metadata": {},
   "outputs": [],
   "source": [
    "#Converting all words to lowercase\n",
    "df_train = df_train.apply(lambda x: \" \".join(x.lower() for x in x.split())) \n",
    "\n",
    "#Removes Punctuation from all sentences\n",
    "df_train = df_train.str.replace('[^a-zA-Z_\\s]+\\w*','')\n",
    "\n",
    "# Remove stop words\n",
    "stop = stopwords.words('english')\n",
    "df_train =  df_train.apply(lambda x: \" \".join(x for x in x.split() if x not in stop))"
   ]
  },
  {
   "cell_type": "code",
   "execution_count": 808,
   "metadata": {},
   "outputs": [
    {
     "name": "stdout",
     "output_type": "stream",
     "text": [
      "unlike trump tweet three morning work international community necessary negotiate taliban course end day rethink entire war terror cause much pain lose many live men women arm force people region well\n",
      " \n",
      "must must get recognize country move oligarchic form society handful billionaires control economic political life country president prepare take yes raise minimum wage live wage yes finally make sure every american healthcare human right privilege yes address catastrophic crisis climate change transform energy system away fossil fuel\n",
      " \n",
      "think get think mean president obama say nobody gonna tell magical solution crisis come one rural state america vote record nra president suspect f record believe get gut finally take nra ask record back come state gun control call ban sale distribution assault weapons lose election everything take nra expand create universal background check away straw man provision away gun show loophole away loopholes exist gun manufacturers sell large amount weapons communities go gang\n",
      " \n"
     ]
    }
   ],
   "source": [
    "for i in range(3):\n",
    "    print(df_train.iloc[i])\n",
    "    print(\" \")"
   ]
  },
  {
   "cell_type": "markdown",
   "metadata": {},
   "source": [
    "In the above code, in addition to converting words to lowercase, removing punctuations and removing stop words, I noticed that there were a few letters that were beyond the scope of the English language. In my analysis, I considered them as stop words as well. Thus, I removed those words."
   ]
  },
  {
   "cell_type": "markdown",
   "metadata": {},
   "source": [
    "#### 4. Stem/lemmatize your training data using a stemmer/lemmatizer of your choosing. Show a before and after using a few observations and comment on what you see. ####"
   ]
  },
  {
   "cell_type": "code",
   "execution_count": 809,
   "metadata": {},
   "outputs": [],
   "source": [
    "lemmatizer = WordNetLemmatizer()\n",
    "\n",
    "#Lemmatizes all the words\n",
    "df_train = df_train.apply(lambda x: \" \".join(lemmatizer.lemmatize(x, wordnet.VERB) for x in x.split()))"
   ]
  },
  {
   "cell_type": "code",
   "execution_count": 810,
   "metadata": {},
   "outputs": [
    {
     "name": "stdout",
     "output_type": "stream",
     "text": [
      "unlike trump tweet three morning work international community necessary negotiate taliban course end day rethink entire war terror cause much pain lose many live men women arm force people region well\n",
      " \n",
      "must must get recognize country move oligarchic form society handful billionaires control economic political life country president prepare take yes raise minimum wage live wage yes finally make sure every american healthcare human right privilege yes address catastrophic crisis climate change transform energy system away fossil fuel\n",
      " \n",
      "think get think mean president obama say nobody gonna tell magical solution crisis come one rural state america vote record nra president suspect f record believe get gut finally take nra ask record back come state gun control call ban sale distribution assault weapons lose election everything take nra expand create universal background check away straw man provision away gun show loophole away loopholes exist gun manufacturers sell large amount weapons communities go gang\n",
      " \n"
     ]
    }
   ],
   "source": [
    "for i in range(3):\n",
    "    print(df_train.iloc[i])\n",
    "    print(\" \")"
   ]
  },
  {
   "cell_type": "markdown",
   "metadata": {},
   "source": [
    "### Observations ###\n",
    "\n",
    "#### NOTE:  In my case, I am lematizing the words to their verb form. ####\n",
    "\n",
    "As we see in the first record, the words 'taking' and 'moving' get converted to 'take' and 'move' respectively.\n",
    "\n",
    "In the second record, the words 'marching' and 'supporting' get converted to 'march' and 'support' respectively.\n",
    "\n",
    "Similar to these, all similar words in the remaining records have been comverted to their base forms as well."
   ]
  },
  {
   "cell_type": "markdown",
   "metadata": {},
   "source": [
    "#### 5. Tokenize your training data using unigrams (hint: see sklearn's CountVectorizer). If you set upper and lower limits on word frequency, what are they? How many unique tokens are in your vocabulary? ####"
   ]
  },
  {
   "cell_type": "code",
   "execution_count": 811,
   "metadata": {},
   "outputs": [],
   "source": [
    "#Convert to vectorized form to transform to BOW\n",
    "vectorizer = CountVectorizer(binary=True)\n",
    "vectorizer.fit(df_train.values)\n",
    "X_train_counts = vectorizer.transform(df_train.values)\n",
    "\n",
    "tfidf_vectorizer = TfidfVectorizer()\n",
    "X_train_tfidf = tfidf_vectorizer.fit_transform(df_train.values)\n",
    "\n",
    "#Obtaining feature names\n",
    "words = vectorizer.get_feature_names()\n",
    "\n",
    "#Converting to dataframe with columns as words\n",
    "vector_train = pd.DataFrame(X_train_counts.toarray(), columns=words)"
   ]
  },
  {
   "cell_type": "code",
   "execution_count": 812,
   "metadata": {},
   "outputs": [
    {
     "data": {
      "text/plain": [
       "3379"
      ]
     },
     "execution_count": 812,
     "metadata": {},
     "output_type": "execute_result"
    }
   ],
   "source": [
    "#Unique tokens in the vocabulary\n",
    "\n",
    "len(words)"
   ]
  },
  {
   "cell_type": "markdown",
   "metadata": {},
   "source": [
    "I have not set any upper and lower limits on the word frequency.\n",
    "\n",
    "My vocabulary has 3379 unique tokens."
   ]
  },
  {
   "cell_type": "markdown",
   "metadata": {},
   "source": [
    "#### 6. Process the test data in a manner identical to the training data. Note that you will need to have the same dimensions for your training and test data. One way in which this can be done is using sklearn's CountVectorizer is to fit on the training data and transform the test data. Show that the number of features for your training and test data are identical. ####"
   ]
  },
  {
   "cell_type": "code",
   "execution_count": 813,
   "metadata": {
    "scrolled": true
   },
   "outputs": [
    {
     "data": {
      "text/plain": [
       "0    know serve general dunford way general dunford...\n",
       "0    know president kennedy announce moonshot use p...\n",
       "0    problem continue get worse say state emergency...\n",
       "0    well first criticism look get guy white house ...\n",
       "0    run president country run time even bigger eme...\n",
       "Name: documents, dtype: object"
      ]
     },
     "execution_count": 813,
     "metadata": {},
     "output_type": "execute_result"
    }
   ],
   "source": [
    "df_test.head()"
   ]
  },
  {
   "cell_type": "code",
   "execution_count": 815,
   "metadata": {},
   "outputs": [
    {
     "data": {
      "text/plain": [
       "0    know serve general dunford way general dunford...\n",
       "0    know president kennedy announce moonshot use p...\n",
       "0    problem continue get worse say state emergency...\n",
       "0    well first criticism look get guy white house ...\n",
       "0    run president country run time even bigger eme...\n",
       "Name: documents, dtype: object"
      ]
     },
     "execution_count": 815,
     "metadata": {},
     "output_type": "execute_result"
    }
   ],
   "source": [
    "#Converting all words to lowercase\n",
    "df_test = df_test.apply(lambda x: \" \".join(x.lower() for x in x.split())) \n",
    "\n",
    "#Removes Punctuation from all sentences\n",
    "df_test = df_test.str.replace('[^a-zA-Z_\\s]+\\w*','')\n",
    "\n",
    "# Remove stop words\n",
    "stop = stopwords.words('english')\n",
    "df_test =  df_test.apply(lambda x: \" \".join(x for x in x.split() if x not in stop))\n",
    "\n",
    "lemmatizer = WordNetLemmatizer()\n",
    "\n",
    "#Lemmatizes all the words\n",
    "df_test = df_test.apply(lambda x: \" \".join(lemmatizer.lemmatize(x, wordnet.VERB) for x in x.split()))\n",
    "\n",
    "df_test.head()"
   ]
  },
  {
   "cell_type": "code",
   "execution_count": 816,
   "metadata": {},
   "outputs": [
    {
     "name": "stdout",
     "output_type": "stream",
     "text": [
      "Number of features for train data: 3379\n",
      "Number of features for test data: 3379\n"
     ]
    }
   ],
   "source": [
    "X_test_counts = vectorizer.transform(df_test.values)\n",
    "\n",
    "X_test_tfidf = tfidf_vectorizer.fit_transform(df_test.values)\n",
    "\n",
    "#Converting to dataframe with columns as words\n",
    "vector_test = pd.DataFrame(X_test_counts.toarray(), columns=words)\n",
    "\n",
    "print(\"Number of features for train data:\",len(vector_train.columns))\n",
    "print(\"Number of features for test data:\",len(vector_test.columns))"
   ]
  },
  {
   "cell_type": "markdown",
   "metadata": {},
   "source": [
    "Thus, the number of features for both your data are equal."
   ]
  },
  {
   "cell_type": "markdown",
   "metadata": {},
   "source": [
    "## Part 2: Supervised Learning ##\n",
    "\n",
    "\n",
    "#### 7. The primary objective of this problem set is to build classifiers to predict who said what. Having the right features are essential for this (and any) prediction task. In addition to the features you were tasked with generating in Part 1, design/build additional features of your choosing. Please note that this process can be iterative in a cycle of designing/adding features and evaluating model performance - this is completely reasonable and you can come back to this question after completing the remainder of Part 2. Describe the features that you ultimately used in your final models and articulate your reasoning for including the features that you did. Also describe any feature manipulation/scaling you did and your reasoning for doing so. Ensure your test set has identical features as your training set. Some potential ideas for additional features include bi-/trigrams, topic model weights, TF-IDF weights, sentiments, hand-engineered word co-occurrences (not adding any/all of these is completely fine as well). ####"
   ]
  },
  {
   "cell_type": "markdown",
   "metadata": {},
   "source": [
    "Let us explore the effect of bi-grams. We will first include only bi-grams and then include both uni-grams and bi-grams in our next vector.\n",
    "\n",
    "\n",
    "PS: I wasn't sure if uni-grams and bi-grams can be combined together. But after some research online, I saw that it can be done. I even found the following paper that explains the effect: https://pdfs.semanticscholar.org/8297/13c1476773796c8c1c577e27f2b9140a9403.pdf\n",
    "\n",
    "\n",
    "### Considering only bi-grams ###"
   ]
  },
  {
   "cell_type": "code",
   "execution_count": 817,
   "metadata": {},
   "outputs": [
    {
     "name": "stdout",
     "output_type": "stream",
     "text": [
      "Number of features for train data: 18034\n",
      "Number of features for test data: 18034\n"
     ]
    }
   ],
   "source": [
    "vectorizer1 = CountVectorizer(binary=True, analyzer='word', ngram_range=(2,2))\n",
    "vectorizer1.fit(df_train.values)\n",
    "X_train1_counts = vectorizer1.transform(df_train.values)\n",
    "\n",
    "tfidf_vectorizer1 = TfidfVectorizer()\n",
    "X_train1_tfidf = tfidf_vectorizer1.fit_transform(df_train.values)\n",
    "\n",
    "#Obtaining feature names\n",
    "words1 = vectorizer1.get_feature_names()\n",
    "\n",
    "#Converting to dataframe with columns as words\n",
    "vector_train1 = pd.DataFrame(X_train1_counts.toarray(), columns=words1)\n",
    "\n",
    "X_test1_counts = vectorizer1.transform(df_test.values)\n",
    "X_test1_tfidf = tfidf_vectorizer1.transform(df_test.values)\n",
    "\n",
    "#Converting to dataframe with columns as words\n",
    "vector_test1 = pd.DataFrame(X_test1_counts.toarray(), columns=words1)\n",
    "\n",
    "print(\"Number of features for train data:\",len(vector_train1.columns))\n",
    "print(\"Number of features for test data:\",len(vector_test1.columns))"
   ]
  },
  {
   "cell_type": "markdown",
   "metadata": {},
   "source": [
    "### Considering uni-grams and bi-grams ###"
   ]
  },
  {
   "cell_type": "code",
   "execution_count": 818,
   "metadata": {},
   "outputs": [
    {
     "name": "stdout",
     "output_type": "stream",
     "text": [
      "Number of features for train data: 21413\n",
      "Number of features for test data: 21413\n"
     ]
    }
   ],
   "source": [
    "vectorizer2 = CountVectorizer(binary=True, analyzer='word', ngram_range=(1,2))\n",
    "vectorizer2.fit(df_train.values)\n",
    "X_train2_counts = vectorizer2.transform(df_train.values)\n",
    "\n",
    "tfidf_vectorizer2 = TfidfVectorizer()\n",
    "X_train2_tfidf = tfidf_vectorizer2.fit_transform(df_train.values)\n",
    "\n",
    "#Obtaining feature names\n",
    "words2 = vectorizer2.get_feature_names()\n",
    "\n",
    "#Converting to dataframe with columns as words\n",
    "vector_train2 = pd.DataFrame(X_train2_counts.toarray(), columns=words2)\n",
    "\n",
    "X_test2_counts = vectorizer2.transform(df_test.values)\n",
    "X_test2_tfidf = tfidf_vectorizer2.transform(df_test.values)\n",
    "\n",
    "#Converting to dataframe with columns as words\n",
    "vector_test2 = pd.DataFrame(X_test2_counts.toarray(), columns=words2)\n",
    "\n",
    "print(\"Number of features for train data:\",len(vector_train2.columns))\n",
    "print(\"Number of features for test data:\",len(vector_test2.columns))"
   ]
  },
  {
   "cell_type": "markdown",
   "metadata": {},
   "source": [
    "#### 8. You will create three different models for this problem set: a regularized logistic regression model, a tree-based model (your choice of any tree-based model), and any other model of your choice (regardless of whether it was discussed in class or not). You do not need to implement anything from scratch and can use out-of-the-box models/pipelines. To start, build a regularized logistic regression model. What was your regularization coefficient and how well does this model perform? Are there any classes where it performs particularly well? Are there any classes where it performs particularly poorly? Use graphs/tables where appropriate and contextualize results. ####"
   ]
  },
  {
   "cell_type": "code",
   "execution_count": 819,
   "metadata": {},
   "outputs": [],
   "source": [
    "from time import time\n",
    "from sklearn.model_selection import GridSearchCV\n",
    "from sklearn.linear_model import LogisticRegression\n",
    "from sklearn.model_selection import train_test_split\n",
    "from sklearn.metrics import multilabel_confusion_matrix\n",
    "from sklearn.metrics import confusion_matrix\n",
    "from sklearn.metrics import cohen_kappa_score\n",
    "from sklearn.metrics import classification_report"
   ]
  },
  {
   "cell_type": "code",
   "execution_count": 820,
   "metadata": {},
   "outputs": [],
   "source": [
    "def Split(df, labels):\n",
    "    traindata, testdata, trainlabel, testlabel = train_test_split(df, labels, test_size=0.2, random_state=0, stratify=trainlabels)\n",
    "    return traindata, testdata, trainlabel, testlabel"
   ]
  },
  {
   "cell_type": "markdown",
   "metadata": {},
   "source": [
    "A deeper analysis of the labels of the split confirmed to me that the classes are indeed stratified. Next, let us build the regularized Logistic Regression model. Now, like for every other model, we need to find the optimal hyperparameters. For this, we will be using the GridSearchCV method. In this case, we will be optimizing the penalty and the regularization factor 'C'."
   ]
  },
  {
   "cell_type": "code",
   "execution_count": 821,
   "metadata": {},
   "outputs": [],
   "source": [
    "def buildLogisticRegression(traindata, testdata, trainlabel, testlabel):\n",
    "    \n",
    "    clf = LogisticRegression(multi_class='auto', solver='liblinear', max_iter=5000, dual=False)\n",
    "\n",
    "    # use a full grid over all parameters\n",
    "    param_grid = {'C': [10, 1, 0.1, 0.01], 'penalty':['l1', 'l2']}\n",
    "\n",
    "    start = time()\n",
    "\n",
    "    # run grid search\n",
    "    grid_search = GridSearchCV(clf, param_grid=param_grid, cv=5, iid=True)\n",
    "\n",
    "    start = time()\n",
    "    grid_search.fit(traindata, trainlabel)\n",
    "\n",
    "    print(\"GridSearchCV took %.2f seconds for %d candidate parameter settings.\"\n",
    "          % (time() - start, len(grid_search.cv_results_['params'])))\n",
    "\n",
    "    print(grid_search.best_params_)\n",
    "    print(\" \")\n",
    "\n",
    "    clf = grid_search.best_estimator_\n",
    "    clf.fit(traindata, trainlabel)\n",
    "\n",
    "    print('holdout set accuracy:', clf.score(testdata, testlabel))\n",
    "\n",
    "    print(\"Total time taken:\",(time() - start))"
   ]
  },
  {
   "cell_type": "markdown",
   "metadata": {},
   "source": [
    "Logistic Regression on the uni-gram only data."
   ]
  },
  {
   "cell_type": "code",
   "execution_count": 822,
   "metadata": {},
   "outputs": [
    {
     "name": "stdout",
     "output_type": "stream",
     "text": [
      "Shape of the training data is: (768, 3379)\n",
      "Shape of the holdout set is: (192, 3379)\n"
     ]
    }
   ],
   "source": [
    "traindata, testdata, trainlabel, testlabel = Split(X_train_counts, trainlabels)\n",
    "print(\"Shape of the training data is:\",traindata.shape)\n",
    "print(\"Shape of the holdout set is:\",testdata.shape)"
   ]
  },
  {
   "cell_type": "code",
   "execution_count": 823,
   "metadata": {},
   "outputs": [
    {
     "name": "stderr",
     "output_type": "stream",
     "text": [
      "C:\\Users\\iGuest\\Anaconda3\\lib\\site-packages\\sklearn\\svm\\base.py:929: ConvergenceWarning: Liblinear failed to converge, increase the number of iterations.\n",
      "  \"the number of iterations.\", ConvergenceWarning)\n"
     ]
    },
    {
     "name": "stdout",
     "output_type": "stream",
     "text": [
      "GridSearchCV took 53.23 seconds for 8 candidate parameter settings.\n",
      "{'C': 10, 'penalty': 'l2'}\n",
      " \n",
      "holdout set accuracy: 0.8958333333333334\n",
      "Total time taken: 53.33158802986145\n"
     ]
    }
   ],
   "source": [
    "buildLogisticRegression(traindata, testdata, trainlabel, testlabel)"
   ]
  },
  {
   "cell_type": "markdown",
   "metadata": {},
   "source": [
    "Logistic Regression on the bi-gram only data."
   ]
  },
  {
   "cell_type": "code",
   "execution_count": 824,
   "metadata": {},
   "outputs": [
    {
     "name": "stdout",
     "output_type": "stream",
     "text": [
      "Shape of the training data is: (768, 18034)\n",
      "Shape of the holdout set is: (192, 18034)\n"
     ]
    }
   ],
   "source": [
    "traindata, testdata, trainlabel, testlabel = Split(X_train1_counts, trainlabels)\n",
    "print(\"Shape of the training data is:\",traindata.shape)\n",
    "print(\"Shape of the holdout set is:\",testdata.shape)"
   ]
  },
  {
   "cell_type": "code",
   "execution_count": 825,
   "metadata": {
    "scrolled": false
   },
   "outputs": [
    {
     "name": "stderr",
     "output_type": "stream",
     "text": [
      "C:\\Users\\iGuest\\Anaconda3\\lib\\site-packages\\sklearn\\svm\\base.py:929: ConvergenceWarning: Liblinear failed to converge, increase the number of iterations.\n",
      "  \"the number of iterations.\", ConvergenceWarning)\n"
     ]
    },
    {
     "name": "stdout",
     "output_type": "stream",
     "text": [
      "GridSearchCV took 167.14 seconds for 8 candidate parameter settings.\n",
      "{'C': 1, 'penalty': 'l2'}\n",
      " \n",
      "holdout set accuracy: 0.875\n",
      "Total time taken: 167.28493690490723\n"
     ]
    }
   ],
   "source": [
    "buildLogisticRegression(traindata, testdata, trainlabel, testlabel)"
   ]
  },
  {
   "cell_type": "markdown",
   "metadata": {},
   "source": [
    "Logistic Regression on the uni-gram plus bi-gram data."
   ]
  },
  {
   "cell_type": "code",
   "execution_count": 826,
   "metadata": {},
   "outputs": [
    {
     "name": "stdout",
     "output_type": "stream",
     "text": [
      "Shape of the training data is: (768, 21413)\n",
      "Shape of the holdout set is: (192, 21413)\n"
     ]
    }
   ],
   "source": [
    "traindata, testdata, trainlabel, testlabel = Split(X_train2_counts, trainlabels)\n",
    "print(\"Shape of the training data is:\",traindata.shape)\n",
    "print(\"Shape of the holdout set is:\",testdata.shape)"
   ]
  },
  {
   "cell_type": "code",
   "execution_count": 827,
   "metadata": {},
   "outputs": [
    {
     "name": "stdout",
     "output_type": "stream",
     "text": [
      "GridSearchCV took 9.09 seconds for 8 candidate parameter settings.\n",
      "{'C': 0.1, 'penalty': 'l2'}\n",
      " \n",
      "holdout set accuracy: 0.9010416666666666\n",
      "Total time taken: 9.286568641662598\n"
     ]
    }
   ],
   "source": [
    "buildLogisticRegression(traindata, testdata, trainlabel, testlabel)"
   ]
  },
  {
   "cell_type": "markdown",
   "metadata": {},
   "source": [
    "Logistic Regression on the TF-IDF vectorized data."
   ]
  },
  {
   "cell_type": "code",
   "execution_count": 828,
   "metadata": {},
   "outputs": [
    {
     "name": "stdout",
     "output_type": "stream",
     "text": [
      "Shape of the training data is: (768, 3379)\n",
      "Shape of the holdout set is: (192, 3379)\n",
      "GridSearchCV took 1.79 seconds for 8 candidate parameter settings.\n",
      "{'C': 10, 'penalty': 'l2'}\n",
      " \n",
      "holdout set accuracy: 0.9322916666666666\n",
      "Total time taken: 1.8593614101409912\n"
     ]
    }
   ],
   "source": [
    "traindata, testdata, trainlabel, testlabel = Split(X_train_tfidf, trainlabels)\n",
    "print(\"Shape of the training data is:\",traindata.shape)\n",
    "print(\"Shape of the holdout set is:\",testdata.shape)\n",
    "\n",
    "buildLogisticRegression(traindata, testdata, trainlabel, testlabel)"
   ]
  },
  {
   "cell_type": "markdown",
   "metadata": {},
   "source": [
    "#### Purely on the basis of these accuracy values, I see that we get the best model for our TF-IDF vectorized data. ####\n",
    "\n",
    "For the sake of uniformity, we have to use this same dataset for all our future model building processes."
   ]
  },
  {
   "cell_type": "code",
   "execution_count": 841,
   "metadata": {},
   "outputs": [
    {
     "name": "stdout",
     "output_type": "stream",
     "text": [
      "Holdout set accuracy: 0.9322916666666666\n"
     ]
    }
   ],
   "source": [
    "#Using the uni- plus bi- gram data\n",
    "traindata, testdata, trainlabel, testlabel = Split(X_train_tfidf, trainlabels)\n",
    "\n",
    "#Building our final logistic regression model\n",
    "clf = LogisticRegression(penalty='l2', multi_class='auto', solver='liblinear', max_iter=5000, dual=False, C=10)\n",
    "clf.fit(traindata, trainlabel)\n",
    "print('Holdout set accuracy:', clf.score(testdata, testlabel))\n",
    "predictions = clf.predict(testdata)"
   ]
  },
  {
   "cell_type": "code",
   "execution_count": 845,
   "metadata": {},
   "outputs": [
    {
     "name": "stdout",
     "output_type": "stream",
     "text": [
      "                  precision    recall  f1-score   support\n",
      "\n",
      "   amy klobuchar       1.00      0.88      0.93        16\n",
      "     andrew yang       0.94      1.00      0.97        16\n",
      "  bernie sanders       0.88      0.94      0.91        16\n",
      "   beto o'rourke       1.00      1.00      1.00        16\n",
      "     cory booker       1.00      0.88      0.93        16\n",
      "elizabeth warren       0.88      0.88      0.88        16\n",
      "       joe biden       0.84      1.00      0.91        16\n",
      "   julian castro       0.94      1.00      0.97        16\n",
      "   kamala harris       0.93      0.88      0.90        16\n",
      "  pete buttigieg       0.80      0.75      0.77        16\n",
      "      tom steyer       1.00      1.00      1.00        16\n",
      "   tulsi gabbard       1.00      1.00      1.00        16\n",
      "\n",
      "        accuracy                           0.93       192\n",
      "       macro avg       0.93      0.93      0.93       192\n",
      "    weighted avg       0.93      0.93      0.93       192\n",
      "\n",
      "0.9261363636363636\n"
     ]
    }
   ],
   "source": [
    "print(classification_report(testlabel, predictions))\n",
    "\n",
    "print(cohen_kappa_score(testlabel, predictions, labels=clf.classes_))"
   ]
  },
  {
   "cell_type": "code",
   "execution_count": 843,
   "metadata": {},
   "outputs": [],
   "source": [
    "def get_class_wise_accuracy(testlabel,predictions):\n",
    "    df_predictions = pd.DataFrame({'trueval':testlabel, 'pred':predictions})\n",
    "    classes = set(df_predictions.trueval)\n",
    "    accuracy_list = []\n",
    "\n",
    "    for c in classes:\n",
    "        df_temp = df_predictions[df_predictions['trueval']==c]\n",
    "        temp = round(((df_temp['pred']==c).sum())/len(df_temp), 3)\n",
    "        accuracy_list.append(temp)\n",
    "        print(\"For the class\",c,\"the accuracy is:\",temp)\n",
    "    \n",
    "    fig, ax = plt.subplots()\n",
    "\n",
    "    ax.barh(list(classes), accuracy_list, align='center')\n",
    "    ax.set_yticklabels(classes)\n",
    "    ax.invert_yaxis()  # labels read top-to-bottom\n",
    "    ax.set_title('Accuracy For Each Label')\n",
    "\n",
    "    plt.show()"
   ]
  },
  {
   "cell_type": "code",
   "execution_count": 844,
   "metadata": {},
   "outputs": [
    {
     "name": "stdout",
     "output_type": "stream",
     "text": [
      "For the class bernie sanders the accuracy is: 0.938\n",
      "For the class tom steyer the accuracy is: 1.0\n",
      "For the class beto o'rourke the accuracy is: 1.0\n",
      "For the class amy klobuchar the accuracy is: 0.875\n",
      "For the class cory booker the accuracy is: 0.875\n",
      "For the class julian castro the accuracy is: 1.0\n",
      "For the class andrew yang the accuracy is: 1.0\n",
      "For the class tulsi gabbard the accuracy is: 1.0\n",
      "For the class joe biden the accuracy is: 1.0\n",
      "For the class elizabeth warren the accuracy is: 0.875\n",
      "For the class kamala harris the accuracy is: 0.875\n",
      "For the class pete buttigieg the accuracy is: 0.75\n"
     ]
    },
    {
     "data": {
      "image/png": "[encoded data removed]",
      "text/plain": [
       "<Figure size 432x288 with 1 Axes>"
      ]
     },
     "metadata": {
      "needs_background": "light"
     },
     "output_type": "display_data"
    }
   ],
   "source": [
    "get_class_wise_accuracy(testlabel,predictions)"
   ]
  },
  {
   "cell_type": "markdown",
   "metadata": {},
   "source": [
    "### Model Performance Analysis ###\n",
    "\n",
    "The best model for Logistic Regression gives an accuracy of 93.2 percent, which is really impressive. The model takes 1.85 secs to build, which should be one of the factors to be considered in our final model selection.\n",
    "\n",
    "This model performs really well on all the classes, with atleast 85+ accuracy for each class."
   ]
  },
  {
   "cell_type": "markdown",
   "metadata": {},
   "source": [
    "#### 9. Next, build a tree-based model. Which model did you use and why? Are there any classes where it performs particularly well? Are there any classes where it performs particularly poorly? Use graphs/tables where appropriate and contextualize results. ####"
   ]
  },
  {
   "cell_type": "code",
   "execution_count": 829,
   "metadata": {
    "scrolled": true
   },
   "outputs": [],
   "source": [
    "from sklearn.ensemble import RandomForestClassifier\n",
    "from sklearn import metrics"
   ]
  },
  {
   "cell_type": "code",
   "execution_count": 852,
   "metadata": {},
   "outputs": [],
   "source": [
    "def buildRFmodel(traindata, testdata, trainlabel, testlabel):\n",
    "    clf2 = RandomForestClassifier(random_state=0)\n",
    "\n",
    "    # use a full grid over all parameters\n",
    "    param_grid = {'max_depth': [10,30,50],\n",
    "                  'min_samples_leaf': [3, 4, 5], \n",
    "                  'min_samples_split': [8, 10, 12],\n",
    "                  'n_estimators':[100,300,500]}\n",
    "\n",
    "    # run grid search\n",
    "    grid_search = GridSearchCV(clf2, param_grid=param_grid, cv=5, iid=True)\n",
    "\n",
    "    start = time()\n",
    "    grid_search.fit(traindata, trainlabel)\n",
    "\n",
    "    print(\"GridSearchCV took %.2f seconds for %d candidate parameter settings.\"\n",
    "          % (time() - start, len(grid_search.cv_results_['params'])))\n",
    "\n",
    "    print(grid_search.best_params_)\n",
    "    print(grid_search.best_estimator_)\n",
    "\n",
    "    clf2 = grid_search.best_estimator_\n",
    "    clf2.fit(traindata, trainlabel)\n",
    "    \n",
    "    print(\" \")\n",
    "    print('Holdout data accuracy:', clf2.score(testdata, testlabel))\n",
    "    predictions = clf2.predict(testdata)\n",
    "    \n",
    "    print(\"Total time taken:\",time() - start)\n",
    "    print(\" \")\n",
    "    \n",
    "    return predictions"
   ]
  },
  {
   "cell_type": "code",
   "execution_count": 831,
   "metadata": {},
   "outputs": [
    {
     "name": "stdout",
     "output_type": "stream",
     "text": [
      "GridSearchCV took 464.74 seconds for 81 candidate parameter settings.\n",
      "{'max_depth': 50, 'min_samples_leaf': 3, 'min_samples_split': 12, 'n_estimators': 500}\n",
      "RandomForestClassifier(bootstrap=True, class_weight=None, criterion='gini',\n",
      "                       max_depth=50, max_features='auto', max_leaf_nodes=None,\n",
      "                       min_impurity_decrease=0.0, min_impurity_split=None,\n",
      "                       min_samples_leaf=3, min_samples_split=12,\n",
      "                       min_weight_fraction_leaf=0.0, n_estimators=500,\n",
      "                       n_jobs=None, oob_score=False, random_state=0, verbose=0,\n",
      "                       warm_start=False)\n",
      "Holdout data accuracy: 0.9010416666666666\n",
      "Total time taken: 467.94893074035645\n"
     ]
    }
   ],
   "source": [
    "#Using count vectorized uni plus bi gram data\n",
    "\n",
    "traindata, testdata, trainlabel, testlabel = Split(X_train2_counts, trainlabels)\n",
    "\n",
    "predictions_counts = buildRFmodel(traindata, testdata, trainlabel, testlabel)"
   ]
  },
  {
   "cell_type": "code",
   "execution_count": 833,
   "metadata": {},
   "outputs": [
    {
     "name": "stdout",
     "output_type": "stream",
     "text": [
      "For the class bernie sanders the accuracy is: 0.875\n",
      "For the class tom steyer the accuracy is: 1.0\n",
      "For the class beto o'rourke the accuracy is: 1.0\n",
      "For the class amy klobuchar the accuracy is: 0.625\n",
      "For the class cory booker the accuracy is: 0.875\n",
      "For the class julian castro the accuracy is: 0.938\n",
      "For the class andrew yang the accuracy is: 0.938\n",
      "For the class tulsi gabbard the accuracy is: 1.0\n",
      "For the class joe biden the accuracy is: 1.0\n",
      "For the class elizabeth warren the accuracy is: 0.875\n",
      "For the class kamala harris the accuracy is: 0.875\n",
      "For the class pete buttigieg the accuracy is: 0.812\n"
     ]
    },
    {
     "data": {
      "image/png": "[encoded data removed]",
      "text/plain": [
       "<Figure size 432x288 with 1 Axes>"
      ]
     },
     "metadata": {
      "needs_background": "light"
     },
     "output_type": "display_data"
    }
   ],
   "source": [
    "get_class_wise_accuracy(testlabel,predictions_counts)"
   ]
  },
  {
   "cell_type": "code",
   "execution_count": 834,
   "metadata": {},
   "outputs": [
    {
     "name": "stdout",
     "output_type": "stream",
     "text": [
      "GridSearchCV took 339.51 seconds for 81 candidate parameter settings.\n",
      "{'max_depth': 50, 'min_samples_leaf': 3, 'min_samples_split': 10, 'n_estimators': 500}\n",
      "RandomForestClassifier(bootstrap=True, class_weight=None, criterion='gini',\n",
      "                       max_depth=50, max_features='auto', max_leaf_nodes=None,\n",
      "                       min_impurity_decrease=0.0, min_impurity_split=None,\n",
      "                       min_samples_leaf=3, min_samples_split=10,\n",
      "                       min_weight_fraction_leaf=0.0, n_estimators=500,\n",
      "                       n_jobs=None, oob_score=False, random_state=0, verbose=0,\n",
      "                       warm_start=False)\n",
      "Holdout data accuracy: 0.8958333333333334\n",
      "Total time taken: 341.63380908966064\n"
     ]
    }
   ],
   "source": [
    "#Using TF-IDF vectorized uni plus bi gram data\n",
    "\n",
    "traindata, testdata, trainlabel, testlabel = Split(X_train_tfidf, trainlabels)\n",
    "predictions_tfidf = buildRFmodel(traindata, testdata, trainlabel, testlabel)"
   ]
  },
  {
   "cell_type": "code",
   "execution_count": 835,
   "metadata": {},
   "outputs": [
    {
     "name": "stdout",
     "output_type": "stream",
     "text": [
      "For the class bernie sanders the accuracy is: 0.938\n",
      "For the class tom steyer the accuracy is: 1.0\n",
      "For the class beto o'rourke the accuracy is: 1.0\n",
      "For the class amy klobuchar the accuracy is: 0.5\n",
      "For the class cory booker the accuracy is: 0.875\n",
      "For the class julian castro the accuracy is: 1.0\n",
      "For the class andrew yang the accuracy is: 0.938\n",
      "For the class tulsi gabbard the accuracy is: 1.0\n",
      "For the class joe biden the accuracy is: 0.875\n",
      "For the class elizabeth warren the accuracy is: 0.875\n",
      "For the class kamala harris the accuracy is: 0.938\n",
      "For the class pete buttigieg the accuracy is: 0.812\n"
     ]
    },
    {
     "data": {
      "image/png": "[encoded data removed]",
      "text/plain": [
       "<Figure size 432x288 with 1 Axes>"
      ]
     },
     "metadata": {
      "needs_background": "light"
     },
     "output_type": "display_data"
    }
   ],
   "source": [
    "get_class_wise_accuracy(testlabel,predictions_tfidf)"
   ]
  },
  {
   "cell_type": "markdown",
   "metadata": {},
   "source": [
    "### Model Performance Analysis ###\n",
    "\n",
    "The best model for RandomForest gives an accuracy of 90, which cannot match the performance of Logistic Regression models we've seen so far.\n",
    "\n",
    "This model performs really well on almost all the classes, except for the 'amy klobuchar' class, where it only predicts with an accuracy of 60 percent."
   ]
  },
  {
   "cell_type": "markdown",
   "metadata": {},
   "source": [
    "#### 10. Next, build any model other than the ones you've already built. Which model did you use and why? Did you tune hyperparameters? If so, which ones and how? Are there any classes where it performs particularly well? Are there any classes where it performs particularly poorly? Use graphs/tables where appropriate and contextualize results. ####"
   ]
  },
  {
   "cell_type": "code",
   "execution_count": 836,
   "metadata": {},
   "outputs": [],
   "source": [
    "from sklearn.naive_bayes import MultinomialNB"
   ]
  },
  {
   "cell_type": "code",
   "execution_count": 851,
   "metadata": {},
   "outputs": [],
   "source": [
    "def buildMultinominal(traindata, testdata, trainlabel, testlabel):\n",
    "    mnb = MultinomialNB()\n",
    "\n",
    "    param_grid = {'alpha': [0.001,0.01,0.1,1,10], 'fit_prior': [True, False]}\n",
    "\n",
    "    # run grid search\n",
    "    # NOTE: GridSearchCV by default considers StratifiedKfold sampling\n",
    "\n",
    "    grid_search = GridSearchCV(mnb, param_grid=param_grid, cv=5, iid=True)\n",
    "    grid_search.fit(traindata, trainlabel)\n",
    "\n",
    "    print(\"The best estimator is:\",grid_search.best_estimator_)\n",
    "    print(\"The best parameters are:\",grid_search.best_params_)\n",
    "    \n",
    "    mnb = grid_search.best_estimator_\n",
    "    predictions = mnb.fit(traindata.toarray(), trainlabel).predict(testdata.toarray())\n",
    "\n",
    "    print(\" \")\n",
    "    print(\"Number of mislabeled points out of a total %d points : %d\" % (testdata.shape[0], (testlabel != predictions).sum()))\n",
    "    print(\"Accuracy:\",metrics.accuracy_score(testlabel, predictions))\n",
    "    print(\" \")\n",
    "    \n",
    "    return mnb, predictions"
   ]
  },
  {
   "cell_type": "code",
   "execution_count": 847,
   "metadata": {
    "scrolled": false
   },
   "outputs": [
    {
     "name": "stdout",
     "output_type": "stream",
     "text": [
      "The best estimator is: MultinomialNB(alpha=1, class_prior=None, fit_prior=True)\n",
      "The best parameters are: {'alpha': 1, 'fit_prior': True}\n",
      "Number of mislabeled points out of a total 192 points : 12\n",
      "Accuracy: 0.9375\n",
      "For the class bernie sanders the accuracy is: 0.938\n",
      "For the class tom steyer the accuracy is: 1.0\n",
      "For the class beto o'rourke the accuracy is: 1.0\n",
      "For the class amy klobuchar the accuracy is: 0.812\n",
      "For the class cory booker the accuracy is: 0.875\n",
      "For the class julian castro the accuracy is: 1.0\n",
      "For the class andrew yang the accuracy is: 1.0\n",
      "For the class tulsi gabbard the accuracy is: 1.0\n",
      "For the class joe biden the accuracy is: 1.0\n",
      "For the class elizabeth warren the accuracy is: 0.875\n",
      "For the class kamala harris the accuracy is: 0.938\n",
      "For the class pete buttigieg the accuracy is: 0.812\n"
     ]
    },
    {
     "data": {
      "image/png": "[encoded data removed]",
      "text/plain": [
       "<Figure size 432x288 with 1 Axes>"
      ]
     },
     "metadata": {
      "needs_background": "light"
     },
     "output_type": "display_data"
    },
    {
     "name": "stdout",
     "output_type": "stream",
     "text": [
      "Total time taken: 1.5934059619903564\n"
     ]
    }
   ],
   "source": [
    "traindata, testdata, trainlabel, testlabel = Split(X_train2_counts, trainlabels)\n",
    "\n",
    "start = time()\n",
    "\n",
    "model, predictions_counts = buildMultinominal(traindata, testdata, trainlabel, testlabel)\n",
    "\n",
    "get_class_wise_accuracy(testlabel, predictions_counts)\n",
    "\n",
    "print(\"Total time taken:\", time() - start)"
   ]
  },
  {
   "cell_type": "code",
   "execution_count": 848,
   "metadata": {},
   "outputs": [
    {
     "name": "stdout",
     "output_type": "stream",
     "text": [
      "                  precision    recall  f1-score   support\n",
      "\n",
      "   amy klobuchar       1.00      0.88      0.93        16\n",
      "     andrew yang       0.94      1.00      0.97        16\n",
      "  bernie sanders       0.88      0.94      0.91        16\n",
      "   beto o'rourke       1.00      1.00      1.00        16\n",
      "     cory booker       1.00      0.88      0.93        16\n",
      "elizabeth warren       0.88      0.88      0.88        16\n",
      "       joe biden       0.84      1.00      0.91        16\n",
      "   julian castro       0.94      1.00      0.97        16\n",
      "   kamala harris       0.93      0.88      0.90        16\n",
      "  pete buttigieg       0.80      0.75      0.77        16\n",
      "      tom steyer       1.00      1.00      1.00        16\n",
      "   tulsi gabbard       1.00      1.00      1.00        16\n",
      "\n",
      "        accuracy                           0.93       192\n",
      "       macro avg       0.93      0.93      0.93       192\n",
      "    weighted avg       0.93      0.93      0.93       192\n",
      "\n",
      "0.9261363636363636\n"
     ]
    }
   ],
   "source": [
    "print(classification_report(testlabel, predictions))\n",
    "\n",
    "print(cohen_kappa_score(testlabel, predictions, labels=clf.classes_))"
   ]
  },
  {
   "cell_type": "code",
   "execution_count": 849,
   "metadata": {},
   "outputs": [
    {
     "name": "stdout",
     "output_type": "stream",
     "text": [
      "The best estimator is: MultinomialNB(alpha=0.1, class_prior=None, fit_prior=True)\n",
      "The best parameters are: {'alpha': 0.1, 'fit_prior': True}\n",
      "Number of mislabeled points out of a total 192 points : 17\n",
      "Accuracy: 0.9114583333333334\n",
      "For the class bernie sanders the accuracy is: 0.938\n",
      "For the class tom steyer the accuracy is: 1.0\n",
      "For the class beto o'rourke the accuracy is: 1.0\n",
      "For the class amy klobuchar the accuracy is: 0.625\n",
      "For the class cory booker the accuracy is: 0.875\n",
      "For the class julian castro the accuracy is: 1.0\n",
      "For the class andrew yang the accuracy is: 0.938\n",
      "For the class tulsi gabbard the accuracy is: 1.0\n",
      "For the class joe biden the accuracy is: 1.0\n",
      "For the class elizabeth warren the accuracy is: 0.875\n",
      "For the class kamala harris the accuracy is: 0.938\n",
      "For the class pete buttigieg the accuracy is: 0.75\n"
     ]
    },
    {
     "data": {
      "image/png": "[encoded data removed]",
      "text/plain": [
       "<Figure size 432x288 with 1 Axes>"
      ]
     },
     "metadata": {
      "needs_background": "light"
     },
     "output_type": "display_data"
    },
    {
     "name": "stdout",
     "output_type": "stream",
     "text": [
      "Total time taken: 0.7365767955780029\n"
     ]
    }
   ],
   "source": [
    "traindata, testdata, trainlabel, testlabel = Split(X_train_tfidf, trainlabels)\n",
    "\n",
    "start = time()\n",
    "\n",
    "model, predictions_tfidf = buildMultinominal(traindata, testdata, trainlabel, testlabel)\n",
    "\n",
    "get_class_wise_accuracy(testlabel, predictions_tfidf)\n",
    "\n",
    "print(\"Total time taken:\", time() - start)"
   ]
  },
  {
   "cell_type": "code",
   "execution_count": 850,
   "metadata": {},
   "outputs": [
    {
     "name": "stdout",
     "output_type": "stream",
     "text": [
      "                  precision    recall  f1-score   support\n",
      "\n",
      "   amy klobuchar       1.00      0.88      0.93        16\n",
      "     andrew yang       0.94      1.00      0.97        16\n",
      "  bernie sanders       0.88      0.94      0.91        16\n",
      "   beto o'rourke       1.00      1.00      1.00        16\n",
      "     cory booker       1.00      0.88      0.93        16\n",
      "elizabeth warren       0.88      0.88      0.88        16\n",
      "       joe biden       0.84      1.00      0.91        16\n",
      "   julian castro       0.94      1.00      0.97        16\n",
      "   kamala harris       0.93      0.88      0.90        16\n",
      "  pete buttigieg       0.80      0.75      0.77        16\n",
      "      tom steyer       1.00      1.00      1.00        16\n",
      "   tulsi gabbard       1.00      1.00      1.00        16\n",
      "\n",
      "        accuracy                           0.93       192\n",
      "       macro avg       0.93      0.93      0.93       192\n",
      "    weighted avg       0.93      0.93      0.93       192\n",
      "\n",
      "0.9261363636363636\n"
     ]
    }
   ],
   "source": [
    "print(classification_report(testlabel, predictions))\n",
    "\n",
    "print(cohen_kappa_score(testlabel, predictions, labels=clf.classes_))"
   ]
  },
  {
   "cell_type": "markdown",
   "metadata": {},
   "source": [
    "### Model Performance Analysis ###\n",
    "\n",
    "The best model for MultinominalNB gives an accuracy of 93.75, which is the highest of all the models we've seen so far.\n",
    "\n",
    "This model performs really well on almost all the classes, except for the 'pete buttigieg' class, which still has a decent accuracy of 80 percent."
   ]
  },
  {
   "cell_type": "markdown",
   "metadata": {},
   "source": [
    "#### 11. Compare the performance of the three classifiers you built. Which is the strongest? Which is the weakest? Compare their performance across the different classes and use graphs/tables where appropriate. ####"
   ]
  },
  {
   "cell_type": "markdown",
   "metadata": {},
   "source": [
    "Purely on the basis of accuracy, the best model I get is the MultinomialNB built on the count vectorized data with an accuracy of 93.75%. This model was the strongest one in our list of models.\n",
    "\n",
    "The weakest model was the RandomForrest model on the count vectorized data with an accuracy of 89.5%."
   ]
  },
  {
   "cell_type": "markdown",
   "metadata": {},
   "source": [
    "#### 12. Using any of the three models of your choosing, generate labels for the test set. Use only last names in all caps as outputs. In other words, ensure every label is one of the following (note the lack of apostrophes and punctuation): BIDEN, BOOKER, BUTTIGIEG, CASTRO, GABBARD, HARRIS, KLOBUCHAR, OROURKE, SANDERS, STEYER, WARREN, YANG. Save these labels as you will include them in your submission, as detailed at the end of this document. ####"
   ]
  },
  {
   "cell_type": "code",
   "execution_count": 853,
   "metadata": {},
   "outputs": [
    {
     "name": "stdout",
     "output_type": "stream",
     "text": [
      "Shape of the test data: (111, 21413)\n",
      "Shape of the predictions: (111,)\n"
     ]
    }
   ],
   "source": [
    "mnb = MultinomialNB(alpha=0.1, class_prior=None, fit_prior=True)\n",
    "mnb.fit(X_train2_counts, trainlabels)\n",
    "\n",
    "print(\"Shape of the test data:\",X_test2_counts.shape)\n",
    "stage1_predictions = mnb.predict(X_test2_counts)\n",
    "print(\"Shape of the predictions:\",stage1_predictions.shape)"
   ]
  },
  {
   "cell_type": "code",
   "execution_count": 854,
   "metadata": {},
   "outputs": [
    {
     "data": {
      "text/plain": [
       "['WARREN', 'WARREN', 'STEYER', 'HARRIS', 'BUTTIGIEG']"
      ]
     },
     "execution_count": 854,
     "metadata": {},
     "output_type": "execute_result"
    }
   ],
   "source": [
    "new_labels = {'amy klobuchar':'KLOBUCHAR',\n",
    " 'andrew yang':'YANG',\n",
    " 'bernie sanders':'SANDERS',\n",
    " \"beto o'rourke\":'OROURKE',\n",
    " 'cory booker':'BOOKER',\n",
    " 'elizabeth warren':'WARREN',\n",
    " 'joe biden':'BIDEN',\n",
    " 'julian castro':'CASTRO',\n",
    " 'kamala harris':'HARRIS',\n",
    " 'pete buttigieg':'BUTTIGIEG',\n",
    " 'tom steyer':'STEYER',\n",
    " 'tulsi gabbard':'GABBARD'}\n",
    "\n",
    "stage1_predictions = [new_labels.get(n, n) for n in stage1_predictions]\n",
    "stage1_predictions[:5]"
   ]
  },
  {
   "cell_type": "markdown",
   "metadata": {},
   "source": [
    "## Part 3: Semi-Supervised Learning ##\n",
    "\n",
    "\n",
    "#### 13. For this part, we will implement a semi-supervised learning process. As a first step, select which of the classifiers from part 2 you will use. You want a classifier that outputs class probabilities (i.e. predict proba in sklearn). We will be training and re-training this classifier 10 more times so you also want to use a model that does not take long to train. State which model you chose and your thought process for choosing it versus the other models. You may want to copy this model to another variable so you can refer to it in its current form later. ####\n"
   ]
  },
  {
   "cell_type": "markdown",
   "metadata": {},
   "source": [
    "I have chosen the Multinominal NB model to use for this process. I will save the mnb model into a new variable called 'new_mnb'. I will run my analysis on this new model.\n",
    "\n",
    "The thought process behind selecting this model was that even though the logistic model with l2 penalty gave me an accuracy that was close enough, that model took a lot of time to run and also had zero accuracy for some of the classes. The RF model was never in the picture so I did not have to think about that at all."
   ]
  },
  {
   "cell_type": "code",
   "execution_count": 855,
   "metadata": {},
   "outputs": [],
   "source": [
    "new_mnb = mnb\n",
    "new_mnb\n",
    "\n",
    "predictions = stage1_predictions"
   ]
  },
  {
   "cell_type": "markdown",
   "metadata": {},
   "source": [
    "#### 14. The process for semi-supervised learning will involve iteratively adding subsets of our test dataset to our training dataset. To start, using the model you selected in QXX, predict label probabilities on the test set. Take the top 10% of test instances which have the highest probability of having the correct labels (i.e. the highest probabilities of belonging to any class). Add your predicted labels to this 10% and then add it to your training data. Retrain your model on this updated training set. How does the performance on the original training dataset compare between this model and the one you trained in Part 2? ####"
   ]
  },
  {
   "cell_type": "markdown",
   "metadata": {},
   "source": [
    "Before I start using predict_proba, I wanted to check how it works. "
   ]
  },
  {
   "cell_type": "code",
   "execution_count": 856,
   "metadata": {},
   "outputs": [
    {
     "name": "stdout",
     "output_type": "stream",
     "text": [
      "The array for the probabilities of the prediction is of the shape: (111, 12)\n",
      "The probabilities for the first row are:\n",
      "[1.70966259e-07 3.02057321e-14 3.78033199e-09 5.50901880e-07\n",
      " 1.20500066e-08 9.99896766e-01 9.77650440e-06 5.34047949e-26\n",
      " 8.71551303e-13 9.27134879e-05 8.18882633e-16 6.03379991e-09]\n",
      " \n",
      "Max probability is at index 5 which has the label elizabeth warren\n",
      "Which matches to the first prediction: WARREN\n"
     ]
    }
   ],
   "source": [
    "print(\"The array for the probabilities of the prediction is of the shape:\",new_mnb.predict_proba(X_test2_counts).shape)\n",
    "\n",
    "print(\"The probabilities for the first row are:\")\n",
    "temp_list = new_mnb.predict_proba(X_test2_counts)[0,:]\n",
    "print(temp_list)\n",
    "print(\" \")\n",
    "\n",
    "print(\"Max probability is at index\",list(temp_list).index(max(temp_list)),\"which has the label\",new_mnb.classes_[list(temp_list).index(max(temp_list))])\n",
    "\n",
    "print(\"Which matches to the first prediction:\",stage1_predictions[0])"
   ]
  },
  {
   "cell_type": "code",
   "execution_count": 858,
   "metadata": {},
   "outputs": [],
   "source": [
    "X_train2_counts_new = X_train2_counts\n",
    "X_test2_counts_new = X_test2_counts.toarray()\n",
    "labels = [new_labels.get(n, n) for n in trainlabels]\n",
    "\n",
    "traindata, testdata, trainlabel, testlabel = Split(X_train2_counts, trainlabels)\n",
    "\n",
    "traindata = traindata.toarray()\n",
    "trainlabel = [new_labels.get(n, n) for n in trainlabel]\n",
    "testlabel = [new_labels.get(n, n) for n in testlabel]\n",
    "\n",
    "accuracy_list = []"
   ]
  },
  {
   "cell_type": "code",
   "execution_count": 859,
   "metadata": {},
   "outputs": [],
   "source": [
    "def AddTestData(X_test2_counts_new, traindata, testdata, trainlabel, testlabel):\n",
    "    \n",
    "    print(\"Training data shape:\",traindata.shape)\n",
    "    print(\"Training label length:\",len(trainlabel))\n",
    "    print(\"Testing data shape:\",X_test2_counts_new.shape)\n",
    "    \n",
    "    print(\"Fitting the MultinomialNB model\")\n",
    "    new_mnb = MultinomialNB(alpha=0.1, class_prior=None, fit_prior=True)\n",
    "    new_mnb.fit(traindata, trainlabel)\n",
    "    \n",
    "    preds = new_mnb.predict(testdata)\n",
    "    accuracy = metrics.accuracy_score(testlabel, preds)\n",
    "    accuracy_list.append(accuracy)\n",
    "    print(\"Accuracy:\",accuracy)\n",
    "\n",
    "    predictions = new_mnb.predict(X_test2_counts_new)\n",
    "    predict_prob_df = pd.DataFrame(new_mnb.predict_proba(X_test2_counts_new), columns=new_mnb.classes_)\n",
    "\n",
    "    #Add a column for max probs per row\n",
    "    predict_prob_df['maxval'] = predict_prob_df.apply(lambda x:max(list(x)), axis=1)\n",
    "    predict_prob_df = predict_prob_df.reset_index()\n",
    "\n",
    "    #Sort by maxval descending order\n",
    "    predict_prob_df = predict_prob_df.sort_values(by=['maxval'], ascending=False)\n",
    "\n",
    "    #Append 11 new rows to the training array\n",
    "    temp_indices = list(predict_prob_df.index[:11])\n",
    "    traindata = np.concatenate((traindata, X_test2_counts_new[temp_indices,:]))\n",
    "\n",
    "    #Delete those 11 rows from the test array\n",
    "    X_test2_counts_new = np.delete(X_test2_counts_new, temp_indices, 0)\n",
    "    \n",
    "    print(\"Training data shape:\",traindata.shape)\n",
    "    print(\"Testing data shape:\",X_test2_counts_new.shape)\n",
    "    \n",
    "    #Append new predictions to the training labels\n",
    "    trainlabel = trainlabel+[predictions[i] for i in temp_indices]\n",
    "    print(\"New training label length:\",len(trainlabel))\n",
    "    \n",
    "    return X_test2_counts_new, traindata, testdata, trainlabel, testlabel"
   ]
  },
  {
   "cell_type": "code",
   "execution_count": 860,
   "metadata": {},
   "outputs": [
    {
     "name": "stdout",
     "output_type": "stream",
     "text": [
      "Including 0 percent of the test data.\n",
      "Training data shape: (768, 21413)\n",
      "Training label length: 768\n",
      "Testing data shape: (111, 21413)\n",
      "Fitting the MultinomialNB model\n",
      "Accuracy: 0.9375\n",
      "Training data shape: (779, 21413)\n",
      "Testing data shape: (100, 21413)\n",
      "New training label length: 779\n",
      "Test data shape (100, 21413)\n",
      "Train data shape (779, 21413)\n",
      "New training label length: 779\n",
      " \n",
      "Let us check the validation set shape. This should remain constant\n",
      "Val data shape (192, 21413)\n",
      "Val label length: 192\n",
      " \n",
      "----------------------------------------------------------------------------------------\n",
      "Including 10 percent of the test data.\n",
      "Training data shape: (779, 21413)\n",
      "Training label length: 779\n",
      "Testing data shape: (100, 21413)\n",
      "Fitting the MultinomialNB model\n",
      "Accuracy: 0.9322916666666666\n",
      "Training data shape: (790, 21413)\n",
      "Testing data shape: (89, 21413)\n",
      "New training label length: 790\n",
      "Test data shape (89, 21413)\n",
      "Train data shape (790, 21413)\n",
      "New training label length: 790\n",
      " \n",
      "Let us check the validation set shape. This should remain constant\n",
      "Val data shape (192, 21413)\n",
      "Val label length: 192\n",
      " \n",
      "----------------------------------------------------------------------------------------\n"
     ]
    }
   ],
   "source": [
    "for i in range(0,20,10):\n",
    "    print(\"Including\",i,\"percent of the test data.\")\n",
    "    X_test2_counts_new, traindata, testdata, trainlabel, testlabel = AddTestData(X_test2_counts_new,\n",
    "                                                                             traindata,\n",
    "                                                                             testdata,\n",
    "                                                                             trainlabel,\n",
    "                                                                             testlabel)\n",
    "    print(\"Test data shape\",X_test2_counts_new.shape)\n",
    "    print(\"Train data shape\",traindata.shape)\n",
    "    print(\"New training label length:\",len(trainlabel))\n",
    "    print(\" \")\n",
    "    print(\"Let us check the validation set shape. This should remain constant\")\n",
    "    print(\"Val data shape\",testdata.shape)\n",
    "    print(\"Val label length:\",len(testlabel))\n",
    "    print(\" \")\n",
    "    print(\"----------------------------------------------------------------------------------------\")"
   ]
  },
  {
   "cell_type": "markdown",
   "metadata": {},
   "source": [
    "#### 15. Now, repeat the process above 9 more times, each time adding an additional 10% of the test data for which the labels have the highest probability (note that this may result in different test observations being included from one iteration to the next). After each iteration, note the performance on the original training data set. Generate a plot which shows the percentage of the test dataset used on the X-axis and the classification accuracy on the original training dataset on the Y-axis. There should be 11 points for this plot, ranging from X = 0% to X = 100%, inclusive. What does the plot look like? Comment on what you see. (Note: this type of semi-supervised learning can very much be hit-or-miss. This type of learning doesn't always yield benefits). ####"
   ]
  },
  {
   "cell_type": "code",
   "execution_count": 861,
   "metadata": {},
   "outputs": [
    {
     "name": "stdout",
     "output_type": "stream",
     "text": [
      "Including 20 percent of the test data.\n",
      "Training data shape: (790, 21413)\n",
      "Training label length: 790\n",
      "Testing data shape: (89, 21413)\n",
      "Fitting the MultinomialNB model\n",
      "Accuracy: 0.9270833333333334\n",
      "Training data shape: (801, 21413)\n",
      "Testing data shape: (78, 21413)\n",
      "New training label length: 801\n",
      "Test data shape (78, 21413)\n",
      "Train data shape (801, 21413)\n",
      "New training label length: 801\n",
      " \n",
      "Let us check the validation set shape. This should remain constant\n",
      "Val data shape (192, 21413)\n",
      "Val label length: 192\n",
      " \n",
      "----------------------------------------------------------------------------------------\n",
      "Including 30 percent of the test data.\n",
      "Training data shape: (801, 21413)\n",
      "Training label length: 801\n",
      "Testing data shape: (78, 21413)\n",
      "Fitting the MultinomialNB model\n",
      "Accuracy: 0.921875\n",
      "Training data shape: (812, 21413)\n",
      "Testing data shape: (67, 21413)\n",
      "New training label length: 812\n",
      "Test data shape (67, 21413)\n",
      "Train data shape (812, 21413)\n",
      "New training label length: 812\n",
      " \n",
      "Let us check the validation set shape. This should remain constant\n",
      "Val data shape (192, 21413)\n",
      "Val label length: 192\n",
      " \n",
      "----------------------------------------------------------------------------------------\n",
      "Including 40 percent of the test data.\n",
      "Training data shape: (812, 21413)\n",
      "Training label length: 812\n",
      "Testing data shape: (67, 21413)\n",
      "Fitting the MultinomialNB model\n",
      "Accuracy: 0.9166666666666666\n",
      "Training data shape: (823, 21413)\n",
      "Testing data shape: (56, 21413)\n",
      "New training label length: 823\n",
      "Test data shape (56, 21413)\n",
      "Train data shape (823, 21413)\n",
      "New training label length: 823\n",
      " \n",
      "Let us check the validation set shape. This should remain constant\n",
      "Val data shape (192, 21413)\n",
      "Val label length: 192\n",
      " \n",
      "----------------------------------------------------------------------------------------\n",
      "Including 50 percent of the test data.\n",
      "Training data shape: (823, 21413)\n",
      "Training label length: 823\n",
      "Testing data shape: (56, 21413)\n",
      "Fitting the MultinomialNB model\n",
      "Accuracy: 0.921875\n",
      "Training data shape: (834, 21413)\n",
      "Testing data shape: (45, 21413)\n",
      "New training label length: 834\n",
      "Test data shape (45, 21413)\n",
      "Train data shape (834, 21413)\n",
      "New training label length: 834\n",
      " \n",
      "Let us check the validation set shape. This should remain constant\n",
      "Val data shape (192, 21413)\n",
      "Val label length: 192\n",
      " \n",
      "----------------------------------------------------------------------------------------\n",
      "Including 60 percent of the test data.\n",
      "Training data shape: (834, 21413)\n",
      "Training label length: 834\n",
      "Testing data shape: (45, 21413)\n",
      "Fitting the MultinomialNB model\n",
      "Accuracy: 0.921875\n",
      "Training data shape: (845, 21413)\n",
      "Testing data shape: (34, 21413)\n",
      "New training label length: 845\n",
      "Test data shape (34, 21413)\n",
      "Train data shape (845, 21413)\n",
      "New training label length: 845\n",
      " \n",
      "Let us check the validation set shape. This should remain constant\n",
      "Val data shape (192, 21413)\n",
      "Val label length: 192\n",
      " \n",
      "----------------------------------------------------------------------------------------\n",
      "Including 70 percent of the test data.\n",
      "Training data shape: (845, 21413)\n",
      "Training label length: 845\n",
      "Testing data shape: (34, 21413)\n",
      "Fitting the MultinomialNB model\n",
      "Accuracy: 0.9166666666666666\n",
      "Training data shape: (856, 21413)\n",
      "Testing data shape: (23, 21413)\n",
      "New training label length: 856\n",
      "Test data shape (23, 21413)\n",
      "Train data shape (856, 21413)\n",
      "New training label length: 856\n",
      " \n",
      "Let us check the validation set shape. This should remain constant\n",
      "Val data shape (192, 21413)\n",
      "Val label length: 192\n",
      " \n",
      "----------------------------------------------------------------------------------------\n",
      "Including 80 percent of the test data.\n",
      "Training data shape: (856, 21413)\n",
      "Training label length: 856\n",
      "Testing data shape: (23, 21413)\n",
      "Fitting the MultinomialNB model\n",
      "Accuracy: 0.921875\n",
      "Training data shape: (867, 21413)\n",
      "Testing data shape: (12, 21413)\n",
      "New training label length: 867\n",
      "Test data shape (12, 21413)\n",
      "Train data shape (867, 21413)\n",
      "New training label length: 867\n",
      " \n",
      "Let us check the validation set shape. This should remain constant\n",
      "Val data shape (192, 21413)\n",
      "Val label length: 192\n",
      " \n",
      "----------------------------------------------------------------------------------------\n",
      "Including 90 percent of the test data.\n",
      "Training data shape: (867, 21413)\n",
      "Training label length: 867\n",
      "Testing data shape: (12, 21413)\n",
      "Fitting the MultinomialNB model\n",
      "Accuracy: 0.9114583333333334\n",
      "Training data shape: (878, 21413)\n",
      "Testing data shape: (1, 21413)\n",
      "New training label length: 878\n",
      "Test data shape (1, 21413)\n",
      "Train data shape (878, 21413)\n",
      "New training label length: 878\n",
      " \n",
      "Let us check the validation set shape. This should remain constant\n",
      "Val data shape (192, 21413)\n",
      "Val label length: 192\n",
      " \n",
      "----------------------------------------------------------------------------------------\n",
      "Including 100 percent of the test data.\n",
      "Training data shape: (878, 21413)\n",
      "Training label length: 878\n",
      "Testing data shape: (1, 21413)\n",
      "Fitting the MultinomialNB model\n",
      "Accuracy: 0.9114583333333334\n",
      "Training data shape: (879, 21413)\n",
      "Testing data shape: (0, 21413)\n",
      "New training label length: 879\n",
      "Test data shape (0, 21413)\n",
      "Train data shape (879, 21413)\n",
      "New training label length: 879\n",
      " \n",
      "Let us check the validation set shape. This should remain constant\n",
      "Val data shape (192, 21413)\n",
      "Val label length: 192\n",
      " \n",
      "----------------------------------------------------------------------------------------\n"
     ]
    }
   ],
   "source": [
    "for i in range(20,110,10):\n",
    "    print(\"Including\",i,\"percent of the test data.\")\n",
    "    X_test2_counts_new, traindata, testdata, trainlabel, testlabel = AddTestData(X_test2_counts_new,\n",
    "                                                                             traindata,\n",
    "                                                                             testdata,\n",
    "                                                                             trainlabel,\n",
    "                                                                             testlabel)\n",
    "    print(\"Test data shape\",X_test2_counts_new.shape)\n",
    "    print(\"Train data shape\",traindata.shape)\n",
    "    print(\"New training label length:\",len(trainlabel))\n",
    "    print(\" \")\n",
    "    print(\"Let us check the validation set shape. This should remain constant\")\n",
    "    print(\"Val data shape\",testdata.shape)\n",
    "    print(\"Val label length:\",len(testlabel))\n",
    "    print(\" \")\n",
    "    print(\"----------------------------------------------------------------------------------------\")"
   ]
  },
  {
   "cell_type": "code",
   "execution_count": 862,
   "metadata": {},
   "outputs": [
    {
     "data": {
      "image/png": "[encoded data removed]",
      "text/plain": [
       "<Figure size 864x576 with 1 Axes>"
      ]
     },
     "metadata": {
      "needs_background": "light"
     },
     "output_type": "display_data"
    }
   ],
   "source": [
    "plt.figure(figsize=(12,8))\n",
    "plt.plot(list(range(11)), accuracy_list)\n",
    "plt.xticks(list(range(11)))\n",
    "plt.show()"
   ]
  },
  {
   "cell_type": "markdown",
   "metadata": {},
   "source": [
    "The plot for my model is clearly decreasing. This means that as I am adding more data from my test data to my training data, the performance of my model was actually decreasing.\n",
    "\n",
    "### So this semi-supervised approach was certainly a miss ###"
   ]
  },
  {
   "cell_type": "markdown",
   "metadata": {},
   "source": [
    "#### 16. Using the model that is trained on the entirety of the training data and 100% of the test data (labeled by you), generate a final set of labels for the test data. Be sure to only use last namesin all caps for the labels, as you did in Question 12. Include these in your submission per the instructions below. ####\n"
   ]
  },
  {
   "cell_type": "code",
   "execution_count": 863,
   "metadata": {},
   "outputs": [],
   "source": [
    "X_train_final = np.concatenate((X_train2_counts.toarray(), X_test2_counts.toarray()))\n",
    "\n",
    "labels = [new_labels.get(n, n) for n in trainlabels]\n",
    "trainlabels_final = labels+trainlabel[-111:]"
   ]
  },
  {
   "cell_type": "code",
   "execution_count": 864,
   "metadata": {},
   "outputs": [
    {
     "data": {
      "text/plain": [
       "array(['BIDEN', 'BUTTIGIEG', 'BOOKER', 'BIDEN', 'KLOBUCHAR', 'BUTTIGIEG',\n",
       "       'GABBARD', 'HARRIS', 'WARREN', 'WARREN'], dtype='<U9')"
      ]
     },
     "execution_count": 864,
     "metadata": {},
     "output_type": "execute_result"
    }
   ],
   "source": [
    "new_mnb = MultinomialNB(alpha=0.1, class_prior=None, fit_prior=True)\n",
    "\n",
    "new_mnb.fit(X_train_final, trainlabels_final)\n",
    "\n",
    "stage2_predictions = new_mnb.predict(X_test2_counts)\n",
    "stage2_predictions[:10]"
   ]
  },
  {
   "cell_type": "code",
   "execution_count": 865,
   "metadata": {},
   "outputs": [
    {
     "name": "stdout",
     "output_type": "stream",
     "text": [
      "The set of classes in our predictions:  {'GABBARD', 'CASTRO', 'HARRIS', 'YANG', 'OROURKE', 'STEYER', 'WARREN', 'BIDEN', 'KLOBUCHAR', 'BOOKER', 'BUTTIGIEG', 'SANDERS'}\n"
     ]
    }
   ],
   "source": [
    "print(\"The set of classes in our predictions: \",set(stage2_predictions))"
   ]
  },
  {
   "cell_type": "code",
   "execution_count": 866,
   "metadata": {},
   "outputs": [
    {
     "name": "stdout",
     "output_type": "stream",
     "text": [
      "All the classes that exist: {'bernie sanders', 'tom steyer', \"beto o'rourke\", 'amy klobuchar', 'cory booker', 'julian castro', 'andrew yang', 'tulsi gabbard', 'joe biden', 'elizabeth warren', 'kamala harris', 'pete buttigieg'}\n"
     ]
    }
   ],
   "source": [
    "print(\"All the classes that exist:\",classes)"
   ]
  },
  {
   "cell_type": "markdown",
   "metadata": {},
   "source": [
    "### Submission and Extra Credit ###\n",
    "\n",
    "\n",
    "#### In addition to your Jupyter notebook, you must also submit a .txt file. The .txt file should be tab delimited with three columns. The columns should have the following headers (please use all caps): FILE, MODEL1, MODEL2. The first column should contain the name of the file (i.e. test 1.txt, test 2.txt, ... test 111.txt). The second column should contain the labels for the corresponding files from your choice of model from Question 12. The third column should contain the labels for the corresponding files from Question 16. ####"
   ]
  },
  {
   "cell_type": "code",
   "execution_count": 867,
   "metadata": {},
   "outputs": [
    {
     "data": {
      "text/html": [
       "<div>\n",
       "<style scoped>\n",
       "    .dataframe tbody tr th:only-of-type {\n",
       "        vertical-align: middle;\n",
       "    }\n",
       "\n",
       "    .dataframe tbody tr th {\n",
       "        vertical-align: top;\n",
       "    }\n",
       "\n",
       "    .dataframe thead th {\n",
       "        text-align: right;\n",
       "    }\n",
       "</style>\n",
       "<table border=\"1\" class=\"dataframe\">\n",
       "  <thead>\n",
       "    <tr style=\"text-align: right;\">\n",
       "      <th></th>\n",
       "      <th>FILE</th>\n",
       "      <th>MODEL1</th>\n",
       "      <th>MODEL2</th>\n",
       "    </tr>\n",
       "  </thead>\n",
       "  <tbody>\n",
       "    <tr>\n",
       "      <th>0</th>\n",
       "      <td>test_1.txt</td>\n",
       "      <td>WARREN</td>\n",
       "      <td>BIDEN</td>\n",
       "    </tr>\n",
       "    <tr>\n",
       "      <th>1</th>\n",
       "      <td>test_10.txt</td>\n",
       "      <td>WARREN</td>\n",
       "      <td>BUTTIGIEG</td>\n",
       "    </tr>\n",
       "    <tr>\n",
       "      <th>2</th>\n",
       "      <td>test_100.txt</td>\n",
       "      <td>STEYER</td>\n",
       "      <td>BOOKER</td>\n",
       "    </tr>\n",
       "    <tr>\n",
       "      <th>3</th>\n",
       "      <td>test_101.txt</td>\n",
       "      <td>HARRIS</td>\n",
       "      <td>BIDEN</td>\n",
       "    </tr>\n",
       "    <tr>\n",
       "      <th>4</th>\n",
       "      <td>test_102.txt</td>\n",
       "      <td>BUTTIGIEG</td>\n",
       "      <td>KLOBUCHAR</td>\n",
       "    </tr>\n",
       "    <tr>\n",
       "      <th>5</th>\n",
       "      <td>test_103.txt</td>\n",
       "      <td>WARREN</td>\n",
       "      <td>BUTTIGIEG</td>\n",
       "    </tr>\n",
       "    <tr>\n",
       "      <th>6</th>\n",
       "      <td>test_104.txt</td>\n",
       "      <td>GABBARD</td>\n",
       "      <td>GABBARD</td>\n",
       "    </tr>\n",
       "    <tr>\n",
       "      <th>7</th>\n",
       "      <td>test_105.txt</td>\n",
       "      <td>BUTTIGIEG</td>\n",
       "      <td>HARRIS</td>\n",
       "    </tr>\n",
       "    <tr>\n",
       "      <th>8</th>\n",
       "      <td>test_106.txt</td>\n",
       "      <td>OROURKE</td>\n",
       "      <td>WARREN</td>\n",
       "    </tr>\n",
       "    <tr>\n",
       "      <th>9</th>\n",
       "      <td>test_107.txt</td>\n",
       "      <td>WARREN</td>\n",
       "      <td>WARREN</td>\n",
       "    </tr>\n",
       "  </tbody>\n",
       "</table>\n",
       "</div>"
      ],
      "text/plain": [
       "           FILE     MODEL1     MODEL2\n",
       "0    test_1.txt     WARREN      BIDEN\n",
       "1   test_10.txt     WARREN  BUTTIGIEG\n",
       "2  test_100.txt     STEYER     BOOKER\n",
       "3  test_101.txt     HARRIS      BIDEN\n",
       "4  test_102.txt  BUTTIGIEG  KLOBUCHAR\n",
       "5  test_103.txt     WARREN  BUTTIGIEG\n",
       "6  test_104.txt    GABBARD    GABBARD\n",
       "7  test_105.txt  BUTTIGIEG     HARRIS\n",
       "8  test_106.txt    OROURKE     WARREN\n",
       "9  test_107.txt     WARREN     WARREN"
      ]
     },
     "execution_count": 867,
     "metadata": {},
     "output_type": "execute_result"
    }
   ],
   "source": [
    "submission = pd.DataFrame({'FILE':test_file_list, 'MODEL1':stage1_predictions, 'MODEL2':stage2_predictions})\n",
    "submission.head(10)"
   ]
  },
  {
   "cell_type": "code",
   "execution_count": 878,
   "metadata": {},
   "outputs": [],
   "source": [
    "np.savetxt('submission.txt', submission.values, fmt='%s', delimiter=\"\\t\", header=\"FILE\\MODEL1\\MODEL2\")"
   ]
  }
 ],
 "metadata": {
  "kernelspec": {
   "display_name": "Python 3",
   "language": "python",
   "name": "python3"
  },
  "language_info": {
   "codemirror_mode": {
    "name": "ipython",
    "version": 3
   },
   "file_extension": ".py",
   "mimetype": "text/x-python",
   "name": "python",
   "nbconvert_exporter": "python",
   "pygments_lexer": "ipython3",
   "version": "3.7.3"
  }
 },
 "nbformat": 4,
 "nbformat_minor": 2
}
